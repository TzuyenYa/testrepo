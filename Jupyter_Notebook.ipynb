{
 "cells": [
  {
   "cell_type": "markdown",
   "metadata": {},
   "source": [
    "<center>\n",
    "    <img src=\"https://cf-courses-data.s3.us.cloud-object-storage.appdomain.cloud/IBMDeveloperSkillsNetwork-DS0105EN-SkillsNetwork/labs/Module2/images/SN_web_lightmode.png\" width=\"300\" alt=\"cognitiveclass.ai logo\">\n",
    "</center>\n"
   ]
  },
  {
   "cell_type": "markdown",
   "metadata": {},
   "source": [
    "#### Add your code below following the instructions given in the course\n"
   ]
  },
  {
   "cell_type": "markdown",
   "metadata": {},
   "source": [
    "<a href=\"https://dataplatform.cloud.ibm.com/gallery\">IBM Cloud Gallery</a> "
   ]
  },
  {
   "cell_type": "markdown",
   "metadata": {},
   "source": [
    "| header | header |\n",
    "| ------ | ------ |\n",
    "| cell | cell |"
   ]
  },
  {
   "cell_type": "markdown",
   "metadata": {},
   "source": [
    "# My Jupyter Notebook on IBM Watson Studio "
   ]
  },
  {
   "cell_type": "markdown",
   "metadata": {},
   "source": [
    "**Tzuyen Yeh**"
   ]
  },
  {
   "cell_type": "markdown",
   "metadata": {},
   "source": [
    "I am expecting for a Machine Learning Engineer job."
   ]
  },
  {
   "cell_type": "markdown",
   "metadata": {},
   "source": [
    "*I am interested in Data Science because Data is powerful that can do lots of things, for example, analysizing data can do prediction.*"
   ]
  },
  {
   "cell_type": "markdown",
   "metadata": {
    "tags": []
   },
   "source": [
    "### print a 9*9 mutiple table ###"
   ]
  },
  {
   "cell_type": "code",
   "execution_count": 1,
   "metadata": {},
   "outputs": [
    {
     "name": "stdout",
     "output_type": "stream",
     "text": [
      "2*1= 2 3*1= 3 4*1= 4 5*1= 5 6*1= 6 7*1= 7 8*1= 8 9*1= 9 \n",
      "2*2= 4 3*2= 6 4*2= 8 5*2=10 6*2=12 7*2=14 8*2=16 9*2=18 \n",
      "2*3= 6 3*3= 9 4*3=12 5*3=15 6*3=18 7*3=21 8*3=24 9*3=27 \n",
      "2*4= 8 3*4=12 4*4=16 5*4=20 6*4=24 7*4=28 8*4=32 9*4=36 \n",
      "2*5=10 3*5=15 4*5=20 5*5=25 6*5=30 7*5=35 8*5=40 9*5=45 \n",
      "2*6=12 3*6=18 4*6=24 5*6=30 6*6=36 7*6=42 8*6=48 9*6=54 \n",
      "2*7=14 3*7=21 4*7=28 5*7=35 6*7=42 7*7=49 8*7=56 9*7=63 \n",
      "2*8=16 3*8=24 4*8=32 5*8=40 6*8=48 7*8=56 8*8=64 9*8=72 \n",
      "2*9=18 3*9=27 4*9=36 5*9=45 6*9=54 7*9=63 8*9=72 9*9=81 \n"
     ]
    }
   ],
   "source": [
    "for j in range(1,10):\n",
    "    for i in range(2,10):\n",
    "        print(\"{}*{}={:2}\" .format(i,j,i*j),end=\" \")\n",
    "    print()"
   ]
  },
  {
   "cell_type": "markdown",
   "metadata": {},
   "source": [
    "horizontal rule, bulleted list, numbered list, tables, hyperlinks, images, code/syntax highlighting, blocked quotes, strikethrough"
   ]
  },
  {
   "cell_type": "markdown",
   "metadata": {},
   "source": [
    "horizontal rule"
   ]
  },
  {
   "cell_type": "markdown",
   "metadata": {},
   "source": [
    "---"
   ]
  },
  {
   "cell_type": "markdown",
   "metadata": {},
   "source": [
    "bulleted list"
   ]
  },
  {
   "cell_type": "markdown",
   "metadata": {},
   "source": [
    "* output\n",
    "  * 1\n",
    "  * 2"
   ]
  },
  {
   "cell_type": "markdown",
   "metadata": {},
   "source": [
    "numbered list"
   ]
  },
  {
   "cell_type": "markdown",
   "metadata": {},
   "source": [
    "1. output\n",
    "      1. 1\n",
    "      2. 2"
   ]
  },
  {
   "cell_type": "markdown",
   "metadata": {},
   "source": [
    "tables"
   ]
  },
  {
   "cell_type": "markdown",
   "metadata": {},
   "source": [
    "|input|output|\n",
    "|---|---|\n",
    "|1|2|"
   ]
  },
  {
   "cell_type": "markdown",
   "metadata": {},
   "source": [
    "hyperlinks"
   ]
  },
  {
   "cell_type": "markdown",
   "metadata": {},
   "source": [
    "[GOOGLE-HOME](https://www.google.com.tw/?hl=zh_TW)"
   ]
  },
  {
   "cell_type": "markdown",
   "metadata": {},
   "source": [
    "images"
   ]
  },
  {
   "cell_type": "markdown",
   "metadata": {},
   "source": [
    "![a dog face](data:image/jpeg;base64,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)"
   ]
  },
  {
   "cell_type": "markdown",
   "metadata": {},
   "source": [
    "code/syntax highlighting"
   ]
  },
  {
   "cell_type": "markdown",
   "metadata": {},
   "source": [
    "`print(\"test\")`"
   ]
  },
  {
   "cell_type": "markdown",
   "metadata": {},
   "source": [
    "```\n",
    "let x;\n",
    "x=3;\n",
    "```"
   ]
  },
  {
   "cell_type": "markdown",
   "metadata": {},
   "source": [
    "``` js\n",
    "let x=3;\n",
    "```"
   ]
  },
  {
   "cell_type": "markdown",
   "metadata": {},
   "source": [
    "blocked quotes"
   ]
  },
  {
   "cell_type": "markdown",
   "metadata": {},
   "source": [
    ">This is a test."
   ]
  },
  {
   "cell_type": "markdown",
   "metadata": {},
   "source": [
    "strikethrough"
   ]
  },
  {
   "cell_type": "markdown",
   "metadata": {},
   "source": [
    "~~strikethrough~~"
   ]
  },
  {
   "cell_type": "code",
   "execution_count": null,
   "metadata": {},
   "outputs": [],
   "source": []
  }
 ],
 "metadata": {
  "kernelspec": {
   "display_name": "Python",
   "language": "python",
   "name": "conda-env-python-py"
  },
  "language_info": {
   "codemirror_mode": {
    "name": "ipython",
    "version": 3
   },
   "file_extension": ".py",
   "mimetype": "text/x-python",
   "name": "python",
   "nbconvert_exporter": "python",
   "pygments_lexer": "ipython3",
   "version": "3.7.12"
  }
 },
 "nbformat": 4,
 "nbformat_minor": 4
}

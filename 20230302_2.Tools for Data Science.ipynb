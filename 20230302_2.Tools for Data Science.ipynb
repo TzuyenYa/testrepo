{
 "cells": [
  {
   "cell_type": "markdown",
   "id": "9194dbc8",
   "metadata": {},
   "source": [
    "Exercise 2 - Create a markdown cell with the title of the notebook. (1 pt)\n",
    "\n",
    "Exercise 3 - Create a markdown cell for an introduction. (1 pt)\n",
    "\n",
    "Exercise 4 - Create a markdown cell to list data science languages. (3 pts)\n",
    "\n",
    "Exercise 5 - Create a markdown cell to list data science libraries. (3 pts)\n",
    "\n",
    "Exercise 6 - Create a markdown cell with a table of Data Science tools. (3 pts)\n",
    "\n",
    "Exercise 7 - Create a markdown cell introducing arithmetic expression examples. (1 pt)\n",
    "\n",
    "Exercise 8 - Create a code cell to multiply and add numbers.(2 pts)\n",
    "\n",
    "Exercise 9 - Create a code cell to convert minutes to hours. (2 pts)\n",
    "\n",
    "Exercise 10 -Insert a markdown cell to list Objectives. (3 pts)\n",
    "\n",
    "Exercise 11 - Create a markdown cell to indicate the Author’s name. (2 pts)\n",
    "\n",
    "Exercise 12 - Share your notebook through GitHub (3 pts)\n",
    "\n",
    "Exercise 13 - Take a screenshot of the first page of the notebook. (1 pt)"
   ]
  },
  {
   "cell_type": "code",
   "execution_count": null,
   "id": "2cc32702",
   "metadata": {},
   "outputs": [],
   "source": []
  },
  {
   "cell_type": "code",
   "execution_count": null,
   "id": "6c6e4792",
   "metadata": {},
   "outputs": [],
   "source": [
    "Exercise 2 - Create a markdown cell with the title of the notebook. (1 pt)"
   ]
  },
  {
   "cell_type": "markdown",
   "id": "2b179c27",
   "metadata": {},
   "source": [
    "# My Jupyter Notebook"
   ]
  },
  {
   "cell_type": "code",
   "execution_count": null,
   "id": "13d52a4f",
   "metadata": {},
   "outputs": [],
   "source": [
    "Exercise 3 - Create a markdown cell for an introduction. (1 pt)"
   ]
  },
  {
   "cell_type": "markdown",
   "id": "a42a8c7f",
   "metadata": {},
   "source": [
    "**Tzuyen Yeh**"
   ]
  },
  {
   "cell_type": "markdown",
   "id": "bd04b82d",
   "metadata": {},
   "source": [
    "I am expecting for a Machine Learning Engineer job."
   ]
  },
  {
   "cell_type": "code",
   "execution_count": null,
   "id": "ca0551e1",
   "metadata": {},
   "outputs": [],
   "source": [
    "Exercise 4 - Create a markdown cell to list data science languages. (3 pts)"
   ]
  },
  {
   "cell_type": "markdown",
   "id": "8abd68d1",
   "metadata": {},
   "source": [
    "* data science languages\n",
    "  * Python\n",
    "  * R\n",
    "  * SQL\n",
    "  * Java\n",
    "  * Julia\n",
    "  * Scala\n",
    "  * C/C++\n",
    "  * JavaScript\n",
    "  * Swift\n",
    "  * Go\n",
    "  * MATLAB\n",
    "  * SAS"
   ]
  },
  {
   "cell_type": "code",
   "execution_count": null,
   "id": "190ae46c",
   "metadata": {},
   "outputs": [],
   "source": [
    "Exercise 5 - Create a markdown cell to list data science libraries. (3 pts)"
   ]
  },
  {
   "cell_type": "markdown",
   "id": "0415f095",
   "metadata": {},
   "source": [
    "A. Python Libraries for Math\n",
    "  1. NumPy \n",
    "  2. SciPy\n",
    "  3. Theano  \n",
    "\n",
    "B. Python Libraries for Data Exploration and Visualization \n",
    "  1. Pandas  \n",
    "  2. Matplotlib   \n",
    "  3. Plotly  \n",
    "  4. Seaborn  \n",
    "  5. Ggplot\n",
    "  6. Altair  \n",
    "  7. Autoviz  \n",
    "  8. Pydot \n",
    "\n",
    "C. Python Libraries for Machine Learning \n",
    "  1. Keras  \n",
    "  2. SciKit-Learn  \n",
    "  3. PyTorch\n",
    "  4. Pycaret \n",
    "  5. TensorFlow\n",
    "  6. Requests \n",
    "\n",
    "D. Python Libraries for Data Mining and Data Scrapping \n",
    "  1. Scrapy  \n",
    "  2. BeautifulSoup   \n",
    "  3. SQLAlchemy  \n",
    "\n",
    "E. Python Libraries For Natural Language Processing \n",
    "  1. NLTK \n",
    "  2. SpaCy \n",
    "  3. Gensim  \n",
    "\n",
    "F. Bonus Python Libraries!\n",
    "  1. OpenCV\n",
    "  2. Mahotas\n",
    "  3. SimpleITK\n",
    "  4. Pillow  \n",
    "  5. Selenium \n",
    "  6. PyTest \n",
    "  7. PyUnit  "
   ]
  },
  {
   "cell_type": "code",
   "execution_count": null,
   "id": "5cd4b139",
   "metadata": {},
   "outputs": [],
   "source": [
    "Exercise 6 - Create a markdown cell with a table of Data Science tools. (3 pts)"
   ]
  },
  {
   "cell_type": "markdown",
   "id": "b4f31136",
   "metadata": {},
   "source": [
    "|number|18 data science tools to consider using in 2023|\n",
    "|------|-----------------------------------------------|\n",
    "|1|Apache Spark|\n",
    "|2|D3.js|\n",
    "|3|IBM SPSS|\n",
    "|4|Julia|\n",
    "|5|Jupyter Notebook|\n",
    "|6|Keras|\n",
    "|7|Matlab|\n",
    "|8|Matplotlib|\n",
    "|9|NumPy|\n",
    "|10|Pandas|\n",
    "|11|Python|\n",
    "|12|PyTorch|\n",
    "|13|R|\n",
    "|14|SAS|\n",
    "|15|Scikit-learn|\n",
    "|16|SciPy|\n",
    "|17|TensorFlow|\n",
    "|18|Weka|"
   ]
  },
  {
   "cell_type": "code",
   "execution_count": null,
   "id": "5afbd213",
   "metadata": {},
   "outputs": [],
   "source": [
    "Exercise 7 - Create a markdown cell introducing arithmetic expression examples. (1 pt)"
   ]
  },
  {
   "cell_type": "markdown",
   "id": "619e46d9",
   "metadata": {},
   "source": [
    "### print a 9*9 mutiple table ###"
   ]
  },
  {
   "cell_type": "code",
   "execution_count": 1,
   "id": "5935cf69",
   "metadata": {},
   "outputs": [
    {
     "name": "stdout",
     "output_type": "stream",
     "text": [
      "2*1= 2 3*1= 3 4*1= 4 5*1= 5 6*1= 6 7*1= 7 8*1= 8 9*1= 9 \n",
      "2*2= 4 3*2= 6 4*2= 8 5*2=10 6*2=12 7*2=14 8*2=16 9*2=18 \n",
      "2*3= 6 3*3= 9 4*3=12 5*3=15 6*3=18 7*3=21 8*3=24 9*3=27 \n",
      "2*4= 8 3*4=12 4*4=16 5*4=20 6*4=24 7*4=28 8*4=32 9*4=36 \n",
      "2*5=10 3*5=15 4*5=20 5*5=25 6*5=30 7*5=35 8*5=40 9*5=45 \n",
      "2*6=12 3*6=18 4*6=24 5*6=30 6*6=36 7*6=42 8*6=48 9*6=54 \n",
      "2*7=14 3*7=21 4*7=28 5*7=35 6*7=42 7*7=49 8*7=56 9*7=63 \n",
      "2*8=16 3*8=24 4*8=32 5*8=40 6*8=48 7*8=56 8*8=64 9*8=72 \n",
      "2*9=18 3*9=27 4*9=36 5*9=45 6*9=54 7*9=63 8*9=72 9*9=81 \n"
     ]
    }
   ],
   "source": [
    "for j in range(1,10):\n",
    "    for i in range(2,10):\n",
    "        print(\"{}*{}={:2}\" .format(i,j,i*j),end=\" \")\n",
    "    print()"
   ]
  },
  {
   "cell_type": "markdown",
   "id": "28d7dcfe",
   "metadata": {},
   "source": [
    "It is a mutiple table, using two for loops. \n",
    "First, set a variable j,its range from 1 to 9 (not equal to 10), to run every elements(2 ~ 9) * 1.\n",
    "Second,  set another variable i,its range from 2 to 9 (not equal to 10), to run every elements(2 ~ 9) in the front of the expression.\n",
    "Third, print in format, i, j, i * j. i * j takes two spaces including the printing number. \"end\" is to let the buttom of every expressions can connect to next expression.\n",
    "At last, \"print()\" can new a line to let the next 8 expressions print in the new line."
   ]
  },
  {
   "cell_type": "code",
   "execution_count": null,
   "id": "15d29729",
   "metadata": {},
   "outputs": [],
   "source": [
    "Exercise 8 - Create a code cell to multiply and add numbers.(2 pts)"
   ]
  },
  {
   "cell_type": "code",
   "execution_count": 4,
   "id": "dd5884e6",
   "metadata": {},
   "outputs": [
    {
     "data": {
      "text/plain": [
       "5"
      ]
     },
     "execution_count": 4,
     "metadata": {},
     "output_type": "execute_result"
    }
   ],
   "source": [
    "ans = (1*2)+3\n",
    "ans"
   ]
  },
  {
   "cell_type": "code",
   "execution_count": null,
   "id": "6b9fa2a0",
   "metadata": {},
   "outputs": [],
   "source": [
    "Exercise 9 - Create a code cell to convert minutes to hours. (2 pts)"
   ]
  },
  {
   "cell_type": "code",
   "execution_count": 5,
   "id": "beb44b68",
   "metadata": {},
   "outputs": [
    {
     "data": {
      "text/plain": [
       "2.6666666666666665"
      ]
     },
     "execution_count": 5,
     "metadata": {},
     "output_type": "execute_result"
    }
   ],
   "source": [
    "min=160\n",
    "hour= min /60\n",
    "hour"
   ]
  },
  {
   "cell_type": "code",
   "execution_count": null,
   "id": "b87a73c4",
   "metadata": {},
   "outputs": [],
   "source": [
    "Exercise 10 -Insert a markdown cell to list Objectives. (3 pts)"
   ]
  },
  {
   "cell_type": "markdown",
   "id": "d2076107",
   "metadata": {},
   "source": []
  },
  {
   "cell_type": "code",
   "execution_count": null,
   "id": "c8d772e3",
   "metadata": {},
   "outputs": [],
   "source": [
    "Exercise 11 - Create a markdown cell to indicate the Author’s name. (2 pts)"
   ]
  },
  {
   "cell_type": "markdown",
   "id": "1ea6b785",
   "metadata": {},
   "source": [
    "**Tzuyen Yeh**"
   ]
  },
  {
   "cell_type": "code",
   "execution_count": null,
   "id": "2f2c3dd1",
   "metadata": {},
   "outputs": [],
   "source": [
    "Exercise 12 - Share your notebook through GitHub (3 pts)"
   ]
  },
  {
   "cell_type": "code",
   "execution_count": null,
   "id": "7c10327c",
   "metadata": {},
   "outputs": [],
   "source": []
  },
  {
   "cell_type": "code",
   "execution_count": null,
   "id": "95e293bd",
   "metadata": {},
   "outputs": [],
   "source": [
    "Exercise 13 - Take a screenshot of the first page of the notebook. (1 pt)"
   ]
  },
  {
   "cell_type": "code",
   "execution_count": null,
   "id": "b1d60fab",
   "metadata": {},
   "outputs": [],
   "source": []
  }
 ],
 "metadata": {
  "kernelspec": {
   "display_name": "Python 3 (ipykernel)",
   "language": "python",
   "name": "python3"
  },
  "language_info": {
   "codemirror_mode": {
    "name": "ipython",
    "version": 3
   },
   "file_extension": ".py",
   "mimetype": "text/x-python",
   "name": "python",
   "nbconvert_exporter": "python",
   "pygments_lexer": "ipython3",
   "version": "3.9.7"
  }
 },
 "nbformat": 4,
 "nbformat_minor": 5
}
